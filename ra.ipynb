{
 "cells": [
  {
   "cell_type": "code",
   "execution_count": 90,
   "metadata": {},
   "outputs": [],
   "source": [
    "#Imports\n",
    "import numpy as np\n",
    "import pandas as pd\n",
    "import random\n",
    "import time\n",
    "\n",
    "random.seed(time.time())\n",
    "\n",
    "\n",
    "# Load datasets\n",
    "default_encoding = \"ISO-8859-1\"\n",
    "full_pdb16_tr_df = pd.read_csv(\"raw_data/pdb2016trv8_us.csv\", encoding=default_encoding)"
   ]
  },
  {
   "cell_type": "code",
   "execution_count": 91,
   "metadata": {},
   "outputs": [],
   "source": [
    "def df_for_state(state_name):\n",
    "    return full_pdb16_tr_df.loc[(full_pdb16_tr_df['State_name'] == state_name)]\n",
    "\n",
    "#draw a random user, generate his profile, criteria\n",
    "def draw_rand_user():\n",
    "    usr_index = int(random.uniform(0, state_tr_df.shape[0]))\n",
    "    \n"
   ]
  },
  {
   "cell_type": "code",
   "execution_count": null,
   "metadata": {},
   "outputs": [],
   "source": [
    "state_tr_df = df_for_state( \"Texas\")\n",
    "# Filter columns for relevant attributes\n",
    "state_tr_df = state_tr_df[['County_name', \n",
    "                                    'Tot_Population_ACS_10_14',\n",
    "                                    'LAND_AREA', # density = total_pop/area\n",
    "                                    'pct_Males_ACS_10_14',\n",
    "                                    'pct_Females_ACS_10_14',\n",
    "                                    'pct_Pop_under_5_ACS_10_14', #demographic breakdown\n",
    "                                    'pct_Pop_18_24_ACS_10_14', \n",
    "                                    'pct_Pop_25_44_ACS_10_14', \n",
    "                                    'pct_Pop_45_64_ACS_10_14', \n",
    "                                    'pct_Pop_65plus_ACS_10_14',\n",
    "                                    'avg_Agg_House_Value_ACS_10_14', \n",
    "                                    'pct_College_ACS_10_14',\n",
    "                                    'avg_Agg_HH_INC_ACS_10_14'\n",
    "                                   ]]\n",
    "state_tr_df['pop_density'] = \n",
    "state_tr_df.dropna()\n",
    "state_tr_df = state_tr_df.reset_index()"
   ]
  },
  {
   "cell_type": "code",
   "execution_count": 93,
   "metadata": {},
   "outputs": [],
   "source": [
    "draw_rand_user()"
   ]
  },
  {
   "cell_type": "code",
   "execution_count": null,
   "metadata": {},
   "outputs": [],
   "source": []
  },
  {
   "cell_type": "code",
   "execution_count": null,
   "metadata": {},
   "outputs": [],
   "source": []
  }
 ],
 "metadata": {
  "kernelspec": {
   "display_name": "Python 2",
   "language": "python",
   "name": "python2"
  },
  "language_info": {
   "codemirror_mode": {
    "name": "ipython",
    "version": 2
   },
   "file_extension": ".py",
   "mimetype": "text/x-python",
   "name": "python",
   "nbconvert_exporter": "python",
   "pygments_lexer": "ipython2",
   "version": "2.7.10"
  }
 },
 "nbformat": 4,
 "nbformat_minor": 2
}
